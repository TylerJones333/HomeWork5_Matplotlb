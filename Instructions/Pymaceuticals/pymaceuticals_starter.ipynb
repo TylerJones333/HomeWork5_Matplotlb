{
 "cells": [
  {
   "cell_type": "markdown",
   "metadata": {},
   "source": [
    "## Observations and Insights"
   ]
  },
  {
   "cell_type": "markdown",
   "metadata": {},
   "source": []
  },
  {
   "cell_type": "markdown",
   "metadata": {},
   "source": [
    "## Dependencies and starter code"
   ]
  },
  {
   "cell_type": "code",
   "execution_count": 28,
   "metadata": {},
   "outputs": [
    {
     "data": {
      "text/plain": [
       "array(['Ramicane', 'Capomulin', 'Infubinol', 'Placebo', 'Ceftamin',\n",
       "       'Stelasyn', 'Zoniferol', 'Ketapril', 'Propriva', 'Naftisol'],\n",
       "      dtype=object)"
      ]
     },
     "execution_count": 28,
     "metadata": {},
     "output_type": "execute_result"
    }
   ],
   "source": [
    "# Dependencies and Setup\n",
    "import matplotlib.pyplot as plt\n",
    "import pandas as pd\n",
    "import scipy.stats as st\n",
    "\n",
    "# Study data files\n",
    "mouse_metadata = \"data/Mouse_metadata.csv\"\n",
    "study_results = \"data/Study_results.csv\"\n",
    "\n",
    "# Read the mouse data and the study results\n",
    "mouse_metadata = pd.read_csv(mouse_metadata)\n",
    "study_results = pd.read_csv(study_results)\n",
    "\n",
    "# Combine the data into a single dataset\n",
    "df1 = pd.DataFrame(mouse_metadata)\n",
    "df2 = pd.DataFrame(study_results)\n",
    "\n",
    "#print(mouse_metadata, study_results)\n",
    "merge_df = pd.merge(mouse_metadata, study_results)\n",
    "DR = merge_df[\"Drug Regimen\"]\n",
    "DR.unique()"
   ]
  },
  {
   "cell_type": "markdown",
   "metadata": {},
   "source": [
    "## Summary statistics"
   ]
  },
  {
   "cell_type": "code",
   "execution_count": 21,
   "metadata": {},
   "outputs": [
    {
     "data": {
      "text/html": [
       "<div>\n",
       "<style scoped>\n",
       "    .dataframe tbody tr th:only-of-type {\n",
       "        vertical-align: middle;\n",
       "    }\n",
       "\n",
       "    .dataframe tbody tr th {\n",
       "        vertical-align: top;\n",
       "    }\n",
       "\n",
       "    .dataframe thead th {\n",
       "        text-align: right;\n",
       "    }\n",
       "</style>\n",
       "<table border=\"1\" class=\"dataframe\">\n",
       "  <thead>\n",
       "    <tr style=\"text-align: right;\">\n",
       "      <th></th>\n",
       "      <th>DR mean</th>\n",
       "      <th>DR median</th>\n",
       "      <th>DR Var</th>\n",
       "      <th>DR STD</th>\n",
       "      <th>DR SEM</th>\n",
       "    </tr>\n",
       "  </thead>\n",
       "  <tbody>\n",
       "    <tr>\n",
       "      <td>0</td>\n",
       "      <td>50.448381</td>\n",
       "      <td>48.951474</td>\n",
       "      <td>79.116074</td>\n",
       "      <td>8.894722</td>\n",
       "      <td>0.204436</td>\n",
       "    </tr>\n",
       "  </tbody>\n",
       "</table>\n",
       "</div>"
      ],
      "text/plain": [
       "     DR mean  DR median     DR Var    DR STD    DR SEM\n",
       "0  50.448381  48.951474  79.116074  8.894722  0.204436"
      ]
     },
     "execution_count": 21,
     "metadata": {},
     "output_type": "execute_result"
    }
   ],
   "source": [
    "# Generate a summary statistics table of mean, median, variance, standard deviation, and SEM of the tumor volume for each regimen\n",
    "Drug_Regimen_mean = merge_df[\"Tumor Volume (mm3)\"].mean()\n",
    "Drug_Regimen_median = merge_df[\"Tumor Volume (mm3)\"].median()\n",
    "Drug_Regimen_Variance = merge_df[\"Tumor Volume (mm3)\"].var()\n",
    "Drug_Regimen_STD = merge_df[\"Tumor Volume (mm3)\"].std()\n",
    "Drug_Regimen_SEM = merge_df[\"Tumor Volume (mm3)\"].sem()\n",
    "pd.DataFrame({\"DR mean\":[Drug_Regimen_mean],\n",
    "             \"DR median\":[Drug_Regimen_median],\n",
    "             \"DR Var\": [Drug_Regimen_Variance],\n",
    "             \"DR STD\": [Drug_Regimen_STD],\n",
    "             \"DR SEM\": [Drug_Regimen_SEM]}) \n"
   ]
  },
  {
   "cell_type": "markdown",
   "metadata": {},
   "source": [
    "## Bar plots"
   ]
  },
  {
   "cell_type": "code",
   "execution_count": null,
   "metadata": {},
   "outputs": [],
   "source": [
    "# Generate a bar plot showing number of data points for each treatment regimen using pandas\n",
    "Bar_pd =\n",
    "# Drug_Regimen_median = merge_df[\"Tumor Volume (mm3)\"].median()\n",
    "# DR_count = pd.DataFrame([Drug_Regimen_mean], rows = [\"Drug Regimen Mean\",\"DR Median\", \"DR Var\", \"DR STD\"]\n",
    "\n",
    "# # Stat_mean =  merge_df.groupby(['Drug Regimen']).mean()['Tumor Volume (mm3)']\n",
    "# # Stat_median = merge_df.groupby(['Drug Regimen']).median()['Tumor Volume (mm3)']\n",
    "# # Stat_var =  merge_df.groupby(['Drug Regimen','Timepoint']).var()['Tumor Volume (mm3)']\n",
    "# # Stat_std =  merge_df.groupby(['Drug Regimen','Timepoint']).std()['Tumor Volume (mm3)']\n",
    "# #Stat_mean.head()\n",
    "# #Stat_median.head()\n",
    "# #Stat_var.head()\n",
    "# #Stat_std.head()\n",
    "                        \n",
    "# pd.DataFrame({\"DR Mean\": [Drug_Regimen_mean],\n",
    "#              \"DR Median\": [Drug_Regimen_median]})\n",
    "    "
   ]
  },
  {
   "cell_type": "code",
   "execution_count": null,
   "metadata": {},
   "outputs": [],
   "source": [
    "# Generate a bar plot showing number of data points for each treatment regimen using pyplot\n",
    "Bar_plt = plt.bar(x_axis, users, color='r', alpha=0.5, align=\"center\")"
   ]
  },
  {
   "cell_type": "markdown",
   "metadata": {},
   "source": [
    "## Pie plots"
   ]
  },
  {
   "cell_type": "code",
   "execution_count": null,
   "metadata": {},
   "outputs": [],
   "source": [
    "# Generate a pie plot showing the distribution of female versus male mice using pandas\n",
    "Gender_pd = merge_df.pd"
   ]
  },
  {
   "cell_type": "code",
   "execution_count": null,
   "metadata": {},
   "outputs": [],
   "source": [
    "# Generate a pie plot showing the distribution of female versus male mice using pyplot\n",
    "Sex = merge_df({'Sex': ['Male', 'Female']})\n",
    "colors = ['red', 'blue']\n",
    "explode = (0.1, 0)\n",
    "plt.pie(Sex, labels=Sex, explode=explode, colors=colors,\n",
    "autopct='%1.1f%%', shadow=True, startangle=140)"
   ]
  },
  {
   "cell_type": "markdown",
   "metadata": {},
   "source": [
    "## Quartiles, outliers and boxplots"
   ]
  },
  {
   "cell_type": "code",
   "execution_count": null,
   "metadata": {},
   "outputs": [],
   "source": [
    "# Calculate the final tumor volume of each mouse across four of the most promising treatment regimens. Calculate the IQR and quantitatively determine if there are any potential outliers. "
   ]
  },
  {
   "cell_type": "code",
   "execution_count": null,
   "metadata": {},
   "outputs": [],
   "source": [
    "# Generate a box plot of the final tumor volume of each mouse across four regimens of interest"
   ]
  },
  {
   "cell_type": "markdown",
   "metadata": {},
   "source": [
    "## Line and scatter plots"
   ]
  },
  {
   "cell_type": "code",
   "execution_count": null,
   "metadata": {},
   "outputs": [],
   "source": [
    "# Generate a line plot of time point versus tumor volume for a mouse treated with Capomulin"
   ]
  },
  {
   "cell_type": "code",
   "execution_count": null,
   "metadata": {},
   "outputs": [],
   "source": [
    "# Generate a scatter plot of mouse weight versus average tumor volume for the Capomulin regimen"
   ]
  },
  {
   "cell_type": "code",
   "execution_count": null,
   "metadata": {},
   "outputs": [],
   "source": [
    "# Calculate the correlation coefficient and linear regression model for mouse weight and average tumor volume for the Capomulin regimen"
   ]
  },
  {
   "cell_type": "code",
   "execution_count": null,
   "metadata": {},
   "outputs": [],
   "source": []
  }
 ],
 "metadata": {
  "anaconda-cloud": {},
  "kernelspec": {
   "display_name": "Python 3",
   "language": "python",
   "name": "python3"
  },
  "language_info": {
   "codemirror_mode": {
    "name": "ipython",
    "version": 3
   },
   "file_extension": ".py",
   "mimetype": "text/x-python",
   "name": "python",
   "nbconvert_exporter": "python",
   "pygments_lexer": "ipython3",
   "version": "3.6.9"
  }
 },
 "nbformat": 4,
 "nbformat_minor": 2
}
